{
 "cells": [
  {
   "cell_type": "code",
   "execution_count": 5,
   "metadata": {},
   "outputs": [],
   "source": [
    "# Data uts restu aji\n",
    "\n",
    "company_detail_list = [\n",
    "      {\n",
    "          'name': 'Company 1',\n",
    "          'domain': 'Retail',\n",
    "          'country': 'United States'\n",
    "      },\n",
    "      {\n",
    "          'name': 'Company 2',\n",
    "          'domain': 'Technology',\n",
    "          'country': 'United Kingdom'\n",
    "      },\n",
    "      {\n",
    "          'name': 'Company 3',\n",
    "          'domain': 'Healthcare',\n",
    "          'country': 'United States'\n",
    "      }\n",
    "  ]\n",
    "\n",
    "employee_detail_list = [\n",
    "     {\n",
    "          'name': 'EMP-0001',\n",
    "          'first_name': 'John',\n",
    "          'last_name': 'Doe',\n",
    "          'full_name': 'John Doe',\n",
    "          'company': 'Company 1',\n",
    "          'nationality': 'Australia'\n",
    "      },\n",
    "      {\n",
    "          'name': 'EMP-0002',\n",
    "          'first_name': 'Tom',\n",
    "          'last_name': 'Smith',\n",
    "          'full_name': 'Tom Smith',\n",
    "          'company': 'Company 2',\n",
    "          'nationality': 'United States'\n",
    "      },\n",
    "      {\n",
    "          'name': 'EMP-0003',\n",
    "          'first_name': 'Andrew',\n",
    "          'last_name': 'Sebastian',\n",
    "          'full_name': 'Andrew Sebastian',\n",
    "          'company': 'Company 3',\n",
    "          'nationality': 'United States'\n",
    "      },\n",
    "      {\n",
    "          'name': 'EMP-0005',\n",
    "          'first_name': 'Ying Han',\n",
    "          'last_name': 'Tan',\n",
    "          'full_name': 'Ying Han Tan',\n",
    "          'company': 'Company 1',\n",
    "          'nationality': 'Australia'\n",
    "      },\n",
    "      {\n",
    "          'name': 'EMP-0015',\n",
    "          'first_name': 'Kenneth',\n",
    "          'last_name': 'Ng',\n",
    "          'full_name': 'Kenneth Ng',\n",
    "          'company': 'Company 3',\n",
    "          'nationality': 'United States'\n",
    "      },\n",
    "      {\n",
    "          'name': 'EMP-0018',\n",
    "          'first_name': 'Rubby',\n",
    "          'last_name': 'Lee',\n",
    "          'full_name': 'Rubby Lee',\n",
    "          'company': 'Company 2',\n",
    "          'nationality': 'Hong Kong'\n",
    "      },\n",
    "     {\n",
    "          'name': 'EMP-0017',\n",
    "          'first_name': 'Robert',\n",
    "          'last_name': 'White',\n",
    "          'full_name': 'Robert White',\n",
    "          'company': 'Company 1',\n",
    "          'nationality': 'United Kingdom'\n",
    "      }\n",
    "  ]"
   ]
  },
  {
   "cell_type": "code",
   "execution_count": 6,
   "metadata": {},
   "outputs": [
    {
     "data": {
      "text/plain": [
       "[{'name': 'Company 3'}, {'name': 'Company 2'}, {'name': 'Company 1'}]"
      ]
     },
     "execution_count": 6,
     "metadata": {},
     "output_type": "execute_result"
    }
   ],
   "source": [
    "def reverse_company_names(company_list):\n",
    "    # Urutilah daftar perusahaan berdasarkan nama secara terbalik\n",
    "    return [{\"name\": company[\"name\"]} for company in sorted(company_list, key=lambda x: x[\"name\"], reverse=True)]\n",
    "\n",
    "reverse_company_names(company_detail_list)"
   ]
  },
  {
   "cell_type": "code",
   "execution_count": 7,
   "metadata": {},
   "outputs": [
    {
     "name": "stdout",
     "output_type": "stream",
     "text": [
      "Company 1: Retail (United States)\n",
      "Company 2: Technology (United Kingdom)\n",
      "Company 3: Healthcare (United States)\n"
     ]
    }
   ],
   "source": [
    "def print_company_domains(company_list):\n",
    "    for company in company_list:\n",
    "        print(f\"{company['name']}: {company['domain']} ({company['country']})\")\n",
    "\n",
    "print_company_domains(company_detail_list)"
   ]
  },
  {
   "cell_type": "code",
   "execution_count": 8,
   "metadata": {},
   "outputs": [
    {
     "name": "stdout",
     "output_type": "stream",
     "text": [
      "{'Retail': ['John Doe', 'Ying Han Tan', 'Robert White'], 'Technology': ['Tom Smith', 'Rubby Lee'], 'Healthcare': ['Andrew Sebastian', 'Kenneth Ng']}\n"
     ]
    }
   ],
   "source": [
    "from collections import defaultdict\n",
    "\n",
    "# urutan daftar perusahaan\n",
    "company_detail_list = [\n",
    "    {\n",
    "        'name': 'Company 1',\n",
    "        'domain': 'Retail',\n",
    "        'country': 'United States'\n",
    "    },\n",
    "    {\n",
    "        'name': 'Company 2',\n",
    "        'domain': 'Technology',\n",
    "        'country': 'United Kingdom'\n",
    "    },\n",
    "    {\n",
    "        'name': 'Company 3',\n",
    "        'domain': 'Healthcare',\n",
    "        'country': 'United States'\n",
    "    }\n",
    "]\n",
    "\n",
    "# urutan daftar karyawan\n",
    "employee_detail_list = [\n",
    "    {\n",
    "        'name': 'EMP-0001',\n",
    "        'first_name': 'John',\n",
    "        'last_name': 'Doe',\n",
    "        'full_name': 'John Doe',\n",
    "        'company': 'Company 1',\n",
    "        'nationality': 'Australia'\n",
    "    },\n",
    "    {\n",
    "        'name': 'EMP-0002',\n",
    "        'first_name': 'Tom',\n",
    "        'last_name': 'Smith',\n",
    "        'full_name': 'Tom Smith',\n",
    "        'company': 'Company 2',\n",
    "        'nationality': 'United States'\n",
    "    },\n",
    "    {\n",
    "        'name': 'EMP-0003',\n",
    "        'first_name': 'Andrew',\n",
    "        'last_name': 'Sebastian',\n",
    "        'full_name': 'Andrew Sebastian',\n",
    "        'company': 'Company 3',\n",
    "        'nationality': 'United States'\n",
    "    },\n",
    "    {\n",
    "        'name': 'EMP-0005',\n",
    "        'first_name': 'Ying Han',\n",
    "        'last_name': 'Tan',\n",
    "        'full_name': 'Ying Han Tan',\n",
    "        'company': 'Company 1',\n",
    "        'nationality': 'Australia'\n",
    "    },\n",
    "    {\n",
    "        'name': 'EMP-0015',\n",
    "        'first_name': 'Kenneth',\n",
    "        'last_name': 'Ng',\n",
    "        'full_name': 'Kenneth Ng',\n",
    "        'company': 'Company 3',\n",
    "        'nationality': 'United States'\n",
    "    },\n",
    "    {\n",
    "        'name': 'EMP-0018',\n",
    "        'first_name': 'Rubby',\n",
    "        'last_name': 'Lee',\n",
    "        'full_name': 'Rubby Lee',\n",
    "        'company': 'Company 2',\n",
    "        'nationality': 'Hong Kong'\n",
    "    },\n",
    "    {\n",
    "        'name': 'EMP-0017',\n",
    "        'first_name': 'Robert',\n",
    "        'last_name': 'White',\n",
    "        'full_name': 'Robert White',\n",
    "        'company': 'Company 1',\n",
    "        'nationality': 'United Kingdom'\n",
    "    }\n",
    "]\n",
    "\n",
    "# berfungsi untuk mencantumkan nama semua pekerjaan karyawan berdasarkan domain perusahaan\n",
    "def list_employees_by_domain(company_list, employee_list):\n",
    "    # Buatlah mapping antara perusahaan dan domain\n",
    "    domain_mapping = {company[\"name\"]: company[\"domain\"] for company in company_list}\n",
    "    # Buatlah dictionary untuk menampung sebuah hasil berdasarkan domain\n",
    "    domain_employees = defaultdict(list)\n",
    "\n",
    "    # Tambahkan nama karyawan ke domain yang sesuai\n",
    "    for employee in employee_list:\n",
    "        domain = domain_mapping.get(employee[\"company\"])\n",
    "        if domain:  # Pastikan domain tidak error\n",
    "            domain_employees[domain].append(employee[\"full_name\"])\n",
    "    \n",
    "    return dict(domain_employees)\n",
    "\n",
    "# Panggil fungsi dan cetak hasilnya\n",
    "result = list_employees_by_domain(company_detail_list, employee_detail_list)\n",
    "print(result)"
   ]
  },
  {
   "cell_type": "code",
   "execution_count": 9,
   "metadata": {},
   "outputs": [
    {
     "data": {
      "text/plain": [
       "[{'full_name': 'John Doe', 'company': 'Company 1', 'country': 'United States'},\n",
       " {'full_name': 'Tom Smith',\n",
       "  'company': 'Company 2',\n",
       "  'country': 'United Kingdom'},\n",
       " {'full_name': 'Andrew Sebastian',\n",
       "  'company': 'Company 3',\n",
       "  'country': 'United States'},\n",
       " {'full_name': 'Ying Han Tan',\n",
       "  'company': 'Company 1',\n",
       "  'country': 'United States'},\n",
       " {'full_name': 'Kenneth Ng',\n",
       "  'company': 'Company 3',\n",
       "  'country': 'United States'},\n",
       " {'full_name': 'Rubby Lee',\n",
       "  'company': 'Company 2',\n",
       "  'country': 'United Kingdom'},\n",
       " {'full_name': 'Robert White',\n",
       "  'company': 'Company 1',\n",
       "  'country': 'United States'}]"
      ]
     },
     "execution_count": 9,
     "metadata": {},
     "output_type": "execute_result"
    }
   ],
   "source": [
    "def employees_with_company_country(company_list, employee_list):\n",
    "    # Buatlah mapping antara perusahaan dan negara\n",
    "    country_mapping = {company[\"name\"]: company[\"country\"] for company in company_list}\n",
    "    # Buatlah daftar hasil berdasarkan negara perusahaan\n",
    "    result = []\n",
    "    for employee in employee_list:\n",
    "        result.append({\n",
    "            \"full_name\": employee[\"full_name\"],\n",
    "            \"company\": employee[\"company\"],\n",
    "            \"country\": country_mapping.get(employee[\"company\"])\n",
    "        })\n",
    "    return result\n",
    "\n",
    "employees_with_company_country(company_detail_list, employee_detail_list)"
   ]
  },
  {
   "cell_type": "code",
   "execution_count": 10,
   "metadata": {},
   "outputs": [
    {
     "data": {
      "text/plain": [
       "[{'company': 'Company 1',\n",
       "  'employee_nationality': {'Australia': 2, 'United Kingdom': 1}},\n",
       " {'company': 'Company 2',\n",
       "  'employee_nationality': {'United States': 1, 'Hong Kong': 1}},\n",
       " {'company': 'Company 3', 'employee_nationality': {'United States': 2}}]"
      ]
     },
     "execution_count": 10,
     "metadata": {},
     "output_type": "execute_result"
    }
   ],
   "source": [
    "from collections import Counter\n",
    "\n",
    "def company_employee_nationalities(company_list, employee_list):\n",
    "    # Buatlah dictionary untuk menyimpan sebuah hasil\n",
    "    result = []\n",
    "    for company in company_list:\n",
    "        # Filter karyawan berdasarkan nama perusahaan\n",
    "        employees = [emp for emp in employee_list if emp[\"company\"] == company[\"name\"]]\n",
    "        # Hitung jumlah kewarganegaraan\n",
    "        nationality_count = Counter(emp[\"nationality\"] for emp in employees)\n",
    "        result.append({\n",
    "            \"company\": company[\"name\"],\n",
    "            \"employee_nationality\": dict(nationality_count)\n",
    "        })\n",
    "    return result\n",
    "\n",
    "company_employee_nationalities(company_detail_list, employee_detail_list)"
   ]
  }
 ],
 "metadata": {
  "kernelspec": {
   "display_name": "restu_aji",
   "language": "python",
   "name": "python3"
  },
  "language_info": {
   "codemirror_mode": {
    "name": "ipython",
    "version": 3
   },
   "file_extension": ".py",
   "mimetype": "text/x-python",
   "name": "python",
   "nbconvert_exporter": "python",
   "pygments_lexer": "ipython3",
   "version": "3.12.7"
  }
 },
 "nbformat": 4,
 "nbformat_minor": 2
}
